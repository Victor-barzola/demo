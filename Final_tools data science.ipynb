{
  "metadata": {
    "language_info": {
      "codemirror_mode": {
        "name": "python",
        "version": 3
      },
      "file_extension": ".py",
      "mimetype": "text/x-python",
      "name": "python",
      "nbconvert_exporter": "python",
      "pygments_lexer": "ipython3",
      "version": "3.8"
    },
    "kernelspec": {
      "name": "python",
      "display_name": "Python (Pyodide)",
      "language": "python"
    }
  },
  "nbformat_minor": 4,
  "nbformat": 4,
  "cells": [
    {
      "cell_type": "markdown",
      "source": "# Final exam for tools for Data Science ",
      "metadata": {}
    },
    {
      "cell_type": "markdown",
      "source": "## Introduction",
      "metadata": {}
    },
    {
      "cell_type": "markdown",
      "source": "### List of data Science lenguages\n-Python\n-R\n-SQL",
      "metadata": {}
    },
    {
      "cell_type": "markdown",
      "source": "### List of data Science libraries\n-Pandas\n\n-Numpy\n\n-seaborn",
      "metadata": {}
    },
    {
      "cell_type": "markdown",
      "source": "### Data Science tools\n| Jupyter Notebook |\n| Apache Spark |\n| Anaconda |\n\n",
      "metadata": {}
    },
    {
      "cell_type": "markdown",
      "source": "###  Arithmetic expression examples",
      "metadata": {}
    },
    {
      "cell_type": "code",
      "source": "# Suma de dos numeros\na=4\nb=6\nresult=a+b\nprint(result)",
      "metadata": {
        "trusted": true
      },
      "execution_count": 2,
      "outputs": [
        {
          "name": "stdout",
          "text": "10\n",
          "output_type": "stream"
        }
      ]
    },
    {
      "cell_type": "markdown",
      "source": "#### Exercise 8 - Create a code cell to multiply and add numbers.(2 pts)",
      "metadata": {}
    },
    {
      "cell_type": "code",
      "source": "#Sample of multiply integers\na=8\nb=3\nresult=(a*b)+b\nprint(result)",
      "metadata": {
        "trusted": true
      },
      "execution_count": 4,
      "outputs": [
        {
          "name": "stdout",
          "text": "27\n",
          "output_type": "stream"
        }
      ]
    },
    {
      "cell_type": "markdown",
      "source": "#### Exercise 9 - Create a code cell to convert minutes to hours. (2 pts",
      "metadata": {}
    },
    {
      "cell_type": "code",
      "source": "#convierte minutos a horas\nmin=100\nh=min/60\nprint(str(min)+\" minutos equivalen a: \"+ str(h) +\" horas.\")",
      "metadata": {
        "trusted": true
      },
      "execution_count": 8,
      "outputs": [
        {
          "name": "stdout",
          "text": "100 minutos equivalen a: 1.6666666666666667 horas.\n",
          "output_type": "stream"
        }
      ]
    },
    {
      "cell_type": "markdown",
      "source": "#### Exercise 10 -Insert a markdown cell to list Objectives. (3 pts)",
      "metadata": {}
    },
    {
      "cell_type": "markdown",
      "source": "#### Author\nVictor Raul Barzola Cisneros",
      "metadata": {}
    },
    {
      "cell_type": "code",
      "source": "",
      "metadata": {},
      "execution_count": null,
      "outputs": []
    }
  ]
}